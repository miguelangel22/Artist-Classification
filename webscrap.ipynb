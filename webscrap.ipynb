{
 "cells": [
  {
   "cell_type": "code",
   "execution_count": 1,
   "metadata": {},
   "outputs": [],
   "source": [
    "import os\n",
    "import sys\n",
    "import requests\n",
    "import time\n",
    "from io import BytesIO\n",
    "from PIL import Image\n",
    "from bs4 import BeautifulSoup\n",
    "from selenium import webdriver"
   ]
  },
  {
   "cell_type": "code",
   "execution_count": 2,
   "metadata": {},
   "outputs": [],
   "source": [
    "chromedriver_path = '/Users/miguelangelis/.chromedriver'"
   ]
  },
  {
   "cell_type": "code",
   "execution_count": 3,
   "metadata": {},
   "outputs": [
    {
     "data": {
      "text/plain": [
       "True"
      ]
     },
     "execution_count": 3,
     "metadata": {},
     "output_type": "execute_result"
    }
   ],
   "source": [
    "os.path.exists(chromedriver_path)"
   ]
  },
  {
   "cell_type": "code",
   "execution_count": 5,
   "metadata": {},
   "outputs": [],
   "source": [
    "def google_full_scrape(search, path):\n",
    "    # Create folder for images\n",
    "    path = os.path.expanduser(f'{path}')\n",
    "    os.mkdir(path)\n",
    "    # Transform string into google search url \n",
    "    search = search.replace(' ', '+')\n",
    "    url = f'''https://www.google.com/search?as_st=y&tbm=isch&as_q=\n",
    "              {search}&as_epq=&as_oq=&as_eq=&imgar=&imgcolor=&imgtype=\n",
    "              &cr=&as_sitesearch=&as_filetype=&tbs=&sfr=vfe&safe=images\n",
    "           '''\n",
    "    # Initiate selenium and search url in chrome\n",
    "    driver = webdriver.Chrome(executable_path=chromedriver_path)\n",
    "    driver.get(url)\n",
    "    scroll_pause_time = 1\n",
    "    # Get scroll height\n",
    "    last_height = driver.execute_script(\"return document.body.scrollHeight\")\n",
    "    while True:\n",
    "        # Scroll down to bottom\n",
    "        driver.execute_script(\"window.scrollTo(0, document.body.scrollHeight);\")\n",
    "        # Wait to load page\n",
    "        time.sleep(scroll_pause_time)\n",
    "        # Calculate new scroll height and compare with last scroll height\n",
    "        new_height = driver.execute_script(\"return document.body.scrollHeight\")\n",
    "        # Check if scroll height has not changed \n",
    "        if new_height == last_height:\n",
    "            # Check for show more button\n",
    "            try:\n",
    "                driver.find_element_by_css_selector(\"input[jsaction='Pmjnye']\").click()\n",
    "                continue\n",
    "            except:\n",
    "                break\n",
    "        # Set scroll height        \n",
    "        last_height = new_height\n",
    "    # Save page source as beautiful soup class    \n",
    "    page = driver.page_source\n",
    "    soup = BeautifulSoup(page, 'html.parser')\n",
    "    # Find all img tags\n",
    "    images = soup.find_all('img')\n",
    "    url_strings = []\n",
    "    # Create list of all image urls\n",
    "    for img in images:\n",
    "        pic = img.get('data-src')\n",
    "        if pic == None:\n",
    "            continue\n",
    "        url_strings.append(pic)\n",
    "    url_strings = url_strings[1:]\n",
    "    # Download images from urls to path\n",
    "    accum = 0\n",
    "    for pic in url_strings:\n",
    "        try:\n",
    "            responce = requests.get(str(pic))\n",
    "            img = Image.open(BytesIO(responce.content))\n",
    "            img.save(f\"{path}/{accum}.jpg\")\n",
    "            accum += 1\n",
    "        except:\n",
    "            print(f\" #{accum} picture bad\")\n",
    "            accum += 1\n",
    "    # Close browser driver       \n",
    "    driver.close()"
   ]
  },
  {
   "cell_type": "markdown",
   "metadata": {},
   "source": [
    "* Vincent Van Gogh\n",
    "* Francisco goya\n",
    "* Rembrant Van Rijn\n",
    "* Leonardo Da Vinci\n",
    "* MichaelAngelo\n",
    "* Pierre-Auguste Renoir\n",
    "* Claude Monet\n",
    "* Jackson Pollock\n",
    "* Jean Michel Basquiat\n",
    "* Keith Haring \n",
    "* Andy Warhol \n",
    "* George Condo \n",
    "* Takashi Murakami "
   ]
  },
  {
   "cell_type": "code",
   "execution_count": 12,
   "metadata": {},
   "outputs": [],
   "source": [
    "van_gogh = 'https://www.google.com/search?as_st=y&tbm=isch&as_q=van+gogh+paintings&as_epq=&as_oq=&as_eq=&imgar=&imgcolor=&imgtype=&cr=&as_sitesearch=&as_filetype=&tbs=&sfr=vfe&safe=images'\n",
    "vg_path = 'images/van_gogh'\n",
    "\n",
    "google_full_scrape(van_gogh, vg_path)"
   ]
  },
  {
   "cell_type": "code",
   "execution_count": 14,
   "metadata": {},
   "outputs": [],
   "source": [
    "francisco_goya = 'https://www.google.com/search?as_st=y&tbm=isch&as_q=francisco+goya+paintings&as_epq=&as_oq=&as_eq=&imgar=&imgcolor=&imgtype=&cr=&as_sitesearch=&as_filetype=&tbs=&sfr=vfe&safe=images'\n",
    "fg_path = 'images/francisco_goya'\n",
    "\n",
    "google_full_scrape(francisco_goya, fg_path)"
   ]
  },
  {
   "cell_type": "code",
   "execution_count": 15,
   "metadata": {},
   "outputs": [],
   "source": [
    "Rembrant_Van_Rijn = 'https://www.google.com/search?as_st=y&tbm=isch&as_q=rembrandt+van+rijn+paintings&as_epq=&as_oq=&as_eq=&imgar=&imgcolor=&imgtype=&cr=&as_sitesearch=&as_filetype=&tbs=&sfr=vfe&safe=images'\n",
    "rvr_path = 'images/Rembrant_Van_Rijn'\n",
    "\n",
    "google_full_scrape(Rembrant_Van_Rijn, rvr_path)"
   ]
  },
  {
   "cell_type": "code",
   "execution_count": 16,
   "metadata": {},
   "outputs": [],
   "source": [
    "Leonardo_Da_Vinci = 'https://www.google.com/search?as_st=y&tbm=isch&as_q=Leonardo+Da+Vinci+paintings&as_epq=&as_oq=&as_eq=&imgar=&imgcolor=&imgtype=&cr=&as_sitesearch=&as_filetype=&tbs=&sfr=vfe&safe=images'\n",
    "ldv_path = 'images/Leonardo_Da_Vinci'\n",
    "\n",
    "google_full_scrape(Leonardo_Da_Vinci, ldv_path)"
   ]
  },
  {
   "cell_type": "code",
   "execution_count": 17,
   "metadata": {},
   "outputs": [],
   "source": [
    "michelangelo = 'https://www.google.com/search?as_st=y&tbm=isch&as_q=michelangelo+paintings&as_epq=&as_oq=&as_eq=&imgar=&imgcolor=&imgtype=&cr=&as_sitesearch=&as_filetype=&tbs=&sfr=vfe&safe=images'\n",
    "ma_path = 'images/michelangelo'\n",
    "google_full_scrape(michelangelo, ma_path)"
   ]
  },
  {
   "cell_type": "code",
   "execution_count": 18,
   "metadata": {},
   "outputs": [],
   "source": [
    "renoir_pierre_auguste = 'https://www.google.com/search?as_st=y&tbm=isch&as_q=renoir+pierre-auguste+art&as_epq=&as_oq=&as_eq=&imgar=&imgcolor=&imgtype=&cr=&as_sitesearch=&as_filetype=&tbs=&sfr=vfe&safe=images'\n",
    "rpa_path = 'images/renoir_pierre-auguste'\n",
    "google_full_scrape(renoir_pierre_auguste, rpa_path)"
   ]
  },
  {
   "cell_type": "code",
   "execution_count": 34,
   "metadata": {},
   "outputs": [],
   "source": [
    "google_full_scrape('Claude Monet paintings', 'images/Claude_Monet')"
   ]
  },
  {
   "cell_type": "code",
   "execution_count": 58,
   "metadata": {},
   "outputs": [
    {
     "name": "stdout",
     "output_type": "stream",
     "text": [
      " #231 picture bad\n",
      " #258 picture bad\n"
     ]
    }
   ],
   "source": [
    "google_full_scrape(search='Jackson Pollock paintings', path='images/Jackson_Pollock')"
   ]
  },
  {
   "cell_type": "code",
   "execution_count": 50,
   "metadata": {},
   "outputs": [
    {
     "name": "stdout",
     "output_type": "stream",
     "text": [
      " #262 picture bad\n"
     ]
    }
   ],
   "source": [
    "google_full_scrape('Jean Michel Basquiat paintings', 'images/Basquiat')"
   ]
  },
  {
   "cell_type": "code",
   "execution_count": 51,
   "metadata": {},
   "outputs": [
    {
     "name": "stdout",
     "output_type": "stream",
     "text": [
      " #35 picture bad\n",
      " #70 picture bad\n",
      " #159 picture bad\n",
      " #170 picture bad\n",
      " #263 picture bad\n",
      " #265 picture bad\n",
      " #314 picture bad\n",
      " #323 picture bad\n",
      " #357 picture bad\n",
      " #362 picture bad\n",
      " #368 picture bad\n",
      " #453 picture bad\n",
      " #478 picture bad\n"
     ]
    }
   ],
   "source": [
    "google_full_scrape('Keith Haring paintings', 'images/Keith_Haring')"
   ]
  },
  {
   "cell_type": "code",
   "execution_count": 52,
   "metadata": {},
   "outputs": [
    {
     "name": "stdout",
     "output_type": "stream",
     "text": [
      " #81 picture bad\n",
      " #194 picture bad\n",
      " #243 picture bad\n",
      " #356 picture bad\n",
      " #381 picture bad\n",
      " #425 picture bad\n"
     ]
    }
   ],
   "source": [
    "google_full_scrape('Andy Warhol paintings', 'images/andy_warhol')"
   ]
  },
  {
   "cell_type": "code",
   "execution_count": 57,
   "metadata": {},
   "outputs": [],
   "source": [
    "google_full_scrape(search='george condo paintings', path='images/george_condo')"
   ]
  },
  {
   "cell_type": "code",
   "execution_count": 5,
   "metadata": {},
   "outputs": [
    {
     "name": "stdout",
     "output_type": "stream",
     "text": [
      " #380 picture bad\n",
      " #549 picture bad\n",
      " #610 picture bad\n"
     ]
    }
   ],
   "source": [
    "google_full_scrape(search='Takashi Murakami paintings', path='images/Takashi_Murakami')"
   ]
  },
  {
   "cell_type": "code",
   "execution_count": null,
   "metadata": {},
   "outputs": [],
   "source": [
    "google_full_scrape(search='Takashi Murakami paintings', path='images/Takashi_Murakami')"
   ]
  },
  {
   "cell_type": "code",
   "execution_count": 7,
   "metadata": {},
   "outputs": [],
   "source": [
    "google_full_scrape(search='Henri Matisse paintings', path='images/Henri_Matisse')"
   ]
  },
  {
   "cell_type": "code",
   "execution_count": 8,
   "metadata": {},
   "outputs": [],
   "source": [
    "google_full_scrape(search='Maurice de Vlaminck paintings', path='images/Maurice_de_Vlaminck')"
   ]
  },
  {
   "cell_type": "code",
   "execution_count": 9,
   "metadata": {},
   "outputs": [
    {
     "name": "stdout",
     "output_type": "stream",
     "text": [
      " #237 picture bad\n",
      " #314 picture bad\n",
      " #356 picture bad\n"
     ]
    }
   ],
   "source": [
    "google_full_scrape(search='andré derain paintings', path='images/andré_derain')"
   ]
  },
  {
   "cell_type": "code",
   "execution_count": 10,
   "metadata": {},
   "outputs": [],
   "source": [
    "google_full_scrape(search='édouard manet paintings', path='images/édouard_manet')"
   ]
  },
  {
   "cell_type": "code",
   "execution_count": 11,
   "metadata": {},
   "outputs": [],
   "source": [
    "google_full_scrape(search='Paul Cézanne paintings', path='images/Paul_Cézanne')"
   ]
  },
  {
   "cell_type": "code",
   "execution_count": null,
   "metadata": {},
   "outputs": [],
   "source": []
  }
 ],
 "metadata": {
  "kernelspec": {
   "display_name": "Python 3",
   "language": "python",
   "name": "python3"
  },
  "language_info": {
   "codemirror_mode": {
    "name": "ipython",
    "version": 3
   },
   "file_extension": ".py",
   "mimetype": "text/x-python",
   "name": "python",
   "nbconvert_exporter": "python",
   "pygments_lexer": "ipython3",
   "version": "3.7.7"
  }
 },
 "nbformat": 4,
 "nbformat_minor": 4
}

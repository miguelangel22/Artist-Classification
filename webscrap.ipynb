{
 "cells": [
  {
   "cell_type": "code",
   "execution_count": 1,
   "metadata": {},
   "outputs": [],
   "source": [
    "import os\n",
    "import sys\n",
    "import requests\n",
    "import time\n",
    "from io import BytesIO\n",
    "from PIL import Image\n",
    "from bs4 import BeautifulSoup\n",
    "from selenium import webdriver"
   ]
  },
  {
   "cell_type": "code",
   "execution_count": 2,
   "metadata": {},
   "outputs": [],
   "source": [
    "chromedriver_path = '/Users/miguelangelis/.chromedriver'"
   ]
  },
  {
   "cell_type": "code",
   "execution_count": 3,
   "metadata": {},
   "outputs": [
    {
     "data": {
      "text/plain": [
       "True"
      ]
     },
     "execution_count": 3,
     "metadata": {},
     "output_type": "execute_result"
    }
   ],
   "source": [
    "os.path.exists(chromedriver_path)"
   ]
  },
  {
   "cell_type": "code",
   "execution_count": 11,
   "metadata": {},
   "outputs": [],
   "source": [
    "def google_full_scrape(search, path, specific=None):\n",
    "    # Create folder for images\n",
    "    path = os.path.expanduser(f'{path}')\n",
    "    os.mkdir(path)\n",
    "    # Transform string into google search url \n",
    "    search = search.replace(' ', '+')\n",
    "    specific = specific.replace(' ', '+')\n",
    "    url = f'''https://www.google.com/search?as_st=y&tbm=isch&as_q=\n",
    "              {search}&as_epq={specific}&as_oq=&as_eq=&imgar=&imgcolor=&imgtype=\n",
    "              &cr=&as_sitesearch=&as_filetype=&tbs=&sfr=vfe&safe=images\n",
    "           '''\n",
    "    # Initiate selenium and search url in chrome\n",
    "    driver = webdriver.Chrome(executable_path=chromedriver_path)\n",
    "    driver.get(url)\n",
    "    scroll_pause_time = 1\n",
    "    # Get scroll height\n",
    "    last_height = driver.execute_script(\"return document.body.scrollHeight\")\n",
    "    while True:\n",
    "        # Scroll down to bottom\n",
    "        driver.execute_script(\"window.scrollTo(0, document.body.scrollHeight);\")\n",
    "        # Wait to load page\n",
    "        time.sleep(scroll_pause_time)\n",
    "        # Calculate new scroll height and compare with last scroll height\n",
    "        new_height = driver.execute_script(\"return document.body.scrollHeight\")\n",
    "        # Check if scroll height has not changed \n",
    "        if new_height == last_height:\n",
    "            # Check for show more button\n",
    "            try:\n",
    "                driver.find_element_by_css_selector(\"input[jsaction='Pmjnye']\").click()\n",
    "                continue\n",
    "            except:\n",
    "                break\n",
    "        # Set scroll height        \n",
    "        last_height = new_height\n",
    "    # Save page source as beautiful soup class    \n",
    "    page = driver.page_source\n",
    "    soup = BeautifulSoup(page, 'html.parser')\n",
    "    # Find all img tags\n",
    "    images = soup.find_all('img')\n",
    "    url_strings = []\n",
    "    # Create list of all image urls\n",
    "    for img in images:\n",
    "        pic = img.get('data-src')\n",
    "        if pic == None:\n",
    "            continue\n",
    "        url_strings.append(pic)\n",
    "    url_strings = url_strings[1:]\n",
    "    # Download images from urls to path\n",
    "    accum = 0\n",
    "    for pic in url_strings:\n",
    "        try:\n",
    "            responce = requests.get(str(pic))\n",
    "            img = Image.open(BytesIO(responce.content))\n",
    "            img.save(f\"{path}/{accum}.jpg\")\n",
    "            accum += 1\n",
    "        except:\n",
    "            print(f\" #{accum} picture bad\")\n",
    "            accum += 1\n",
    "    # Close browser driver       \n",
    "    driver.close()"
   ]
  },
  {
   "cell_type": "markdown",
   "metadata": {},
   "source": [
    "* Vincent Van Gogh\n",
    "* Francisco goya\n",
    "* Rembrant Van Rijn\n",
    "* Leonardo Da Vinci\n",
    "* MichaelAngelo\n",
    "* Pierre-Auguste Renoir\n",
    "* Claude Monet\n",
    "* Jackson Pollock\n",
    "* Jean Michel Basquiat\n",
    "* Keith Haring \n",
    "* Andy Warhol \n",
    "* George Condo \n",
    "* Takashi Murakami "
   ]
  },
  {
   "cell_type": "code",
   "execution_count": 33,
   "metadata": {},
   "outputs": [],
   "source": [
    "google_full_scrape(search='van gogh paintings',\n",
    "                   path='images/Van_Gogh',\n",
    "                   specific='van gogh painting')"
   ]
  },
  {
   "cell_type": "code",
   "execution_count": 32,
   "metadata": {},
   "outputs": [],
   "source": [
    "google_full_scrape(search='francisco goya paintings',\n",
    "                   path='images/Francisco_Goya',\n",
    "                   specific='francisco goya painting')"
   ]
  },
  {
   "cell_type": "code",
   "execution_count": 31,
   "metadata": {},
   "outputs": [
    {
     "name": "stdout",
     "output_type": "stream",
     "text": [
      " #203 picture bad\n"
     ]
    }
   ],
   "source": [
    "google_full_scrape(search='rembrant van rijn paintings',\n",
    "                   path='images/Rembrant_Van_Rijn',\n",
    "                   specific='rembrant van rijn painting')"
   ]
  },
  {
   "cell_type": "code",
   "execution_count": 28,
   "metadata": {},
   "outputs": [
    {
     "name": "stdout",
     "output_type": "stream",
     "text": [
      " #228 picture bad\n"
     ]
    }
   ],
   "source": [
    "google_full_scrape(search='michelangelo paintings',\n",
    "                   path='images/Michelangelo',\n",
    "                   specific='Michelangelo painting')"
   ]
  },
  {
   "cell_type": "code",
   "execution_count": 27,
   "metadata": {},
   "outputs": [
    {
     "name": "stdout",
     "output_type": "stream",
     "text": [
      " #415 picture bad\n"
     ]
    }
   ],
   "source": [
    "google_full_scrape(search='Pierre-Auguste Renoir',\n",
    "                   path='images/Pierre-Auguste Renoir',\n",
    "                   specific='Pierre-Auguste Renoir painting')"
   ]
  },
  {
   "cell_type": "code",
   "execution_count": 25,
   "metadata": {},
   "outputs": [],
   "source": [
    "google_full_scrape(search='Claude Monet paintings',\n",
    "                   path='images/Claude_Monet',\n",
    "                   specific='Claude Monet painting')"
   ]
  },
  {
   "cell_type": "code",
   "execution_count": 58,
   "metadata": {},
   "outputs": [
    {
     "name": "stdout",
     "output_type": "stream",
     "text": [
      " #231 picture bad\n",
      " #258 picture bad\n"
     ]
    }
   ],
   "source": [
    "#google_full_scrape(search='Jackson Pollock paintings', path='images/Jackson_Pollock')"
   ]
  },
  {
   "cell_type": "code",
   "execution_count": 50,
   "metadata": {},
   "outputs": [
    {
     "name": "stdout",
     "output_type": "stream",
     "text": [
      " #262 picture bad\n"
     ]
    }
   ],
   "source": [
    "#google_full_scrape('Jean Michel Basquiat paintings', 'images/Basquiat')"
   ]
  },
  {
   "cell_type": "code",
   "execution_count": 24,
   "metadata": {},
   "outputs": [
    {
     "name": "stdout",
     "output_type": "stream",
     "text": [
      " #81 picture bad\n",
      " #90 picture bad\n",
      " #248 picture bad\n",
      " #310 picture bad\n",
      " #340 picture bad\n",
      " #451 picture bad\n",
      " #476 picture bad\n",
      " #497 picture bad\n",
      " #525 picture bad\n"
     ]
    }
   ],
   "source": [
    "google_full_scrape(search='Keith Haring paintings',\n",
    "                   path='images/Keith_Haring',\n",
    "                   specific='Keith Haring painting')"
   ]
  },
  {
   "cell_type": "code",
   "execution_count": 23,
   "metadata": {},
   "outputs": [
    {
     "name": "stdout",
     "output_type": "stream",
     "text": [
      " #96 picture bad\n",
      " #220 picture bad\n",
      " #252 picture bad\n"
     ]
    }
   ],
   "source": [
    "google_full_scrape(search='Andy Warhol paintings',\n",
    "                   path='images/Andy_Warhol',\n",
    "                   specific='Andy Warhol painting')"
   ]
  },
  {
   "cell_type": "code",
   "execution_count": 22,
   "metadata": {},
   "outputs": [],
   "source": [
    "google_full_scrape(search='george condo paintings',\n",
    "                   path='images/George_Condo',\n",
    "                   specific='george condo painting')"
   ]
  },
  {
   "cell_type": "code",
   "execution_count": 21,
   "metadata": {},
   "outputs": [
    {
     "name": "stdout",
     "output_type": "stream",
     "text": [
      " #117 picture bad\n",
      " #293 picture bad\n",
      " #312 picture bad\n",
      " #328 picture bad\n",
      " #345 picture bad\n",
      " #365 picture bad\n",
      " #400 picture bad\n",
      " #412 picture bad\n",
      " #476 picture bad\n"
     ]
    }
   ],
   "source": [
    "google_full_scrape(search='Takashi Murakami paintings',\n",
    "                   path='images/Takashi_Murakami',\n",
    "                   specific='Takashi Murakami painting')"
   ]
  },
  {
   "cell_type": "code",
   "execution_count": 20,
   "metadata": {},
   "outputs": [
    {
     "name": "stdout",
     "output_type": "stream",
     "text": [
      " #385 picture bad\n",
      " #391 picture bad\n"
     ]
    }
   ],
   "source": [
    "google_full_scrape(search='Henri Matisse paintings',\n",
    "                   path='images/Henri_Matisse',\n",
    "                   specific='Henri Matisse painting')"
   ]
  },
  {
   "cell_type": "code",
   "execution_count": 19,
   "metadata": {},
   "outputs": [
    {
     "name": "stdout",
     "output_type": "stream",
     "text": [
      " #125 picture bad\n",
      " #137 picture bad\n",
      " #162 picture bad\n"
     ]
    }
   ],
   "source": [
    "google_full_scrape(search='Maurice de Vlaminck paintings',\n",
    "                   path='images/Maurice_de_Vlaminck',\n",
    "                   specific='Maurice de Vlaminck painting')"
   ]
  },
  {
   "cell_type": "code",
   "execution_count": 18,
   "metadata": {},
   "outputs": [
    {
     "name": "stdout",
     "output_type": "stream",
     "text": [
      " #172 picture bad\n",
      " #321 picture bad\n",
      " #338 picture bad\n"
     ]
    }
   ],
   "source": [
    "google_full_scrape(search='andré derain paintings',\n",
    "                   path='images/André_Derain',\n",
    "                   specific='andré derain painting')"
   ]
  },
  {
   "cell_type": "code",
   "execution_count": 17,
   "metadata": {},
   "outputs": [],
   "source": [
    "google_full_scrape(search='édouard manet paintings',\n",
    "                   path='images/Edouard_Manet',\n",
    "                   specific='édouard manet painting')"
   ]
  },
  {
   "cell_type": "code",
   "execution_count": 14,
   "metadata": {},
   "outputs": [],
   "source": [
    "google_full_scrape(search='Paul Cézanne paintings',\n",
    "                   path='images/Paul_Cézanne',\n",
    "                   specific='Paul Cézanne painting')"
   ]
  },
  {
   "cell_type": "code",
   "execution_count": 16,
   "metadata": {},
   "outputs": [
    {
     "name": "stdout",
     "output_type": "stream",
     "text": [
      " #227 picture bad\n",
      " #228 picture bad\n",
      " #229 picture bad\n",
      " #230 picture bad\n",
      " #231 picture bad\n",
      " #232 picture bad\n",
      " #233 picture bad\n",
      " #234 picture bad\n",
      " #235 picture bad\n",
      " #236 picture bad\n",
      " #237 picture bad\n",
      " #238 picture bad\n",
      " #239 picture bad\n",
      " #240 picture bad\n",
      " #241 picture bad\n",
      " #242 picture bad\n",
      " #243 picture bad\n",
      " #244 picture bad\n",
      " #245 picture bad\n",
      " #246 picture bad\n",
      " #247 picture bad\n",
      " #248 picture bad\n",
      " #249 picture bad\n",
      " #250 picture bad\n",
      " #251 picture bad\n",
      " #252 picture bad\n",
      " #253 picture bad\n",
      " #254 picture bad\n",
      " #255 picture bad\n",
      " #256 picture bad\n",
      " #257 picture bad\n",
      " #258 picture bad\n",
      " #259 picture bad\n",
      " #260 picture bad\n",
      " #261 picture bad\n",
      " #262 picture bad\n",
      " #263 picture bad\n",
      " #264 picture bad\n",
      " #265 picture bad\n",
      " #266 picture bad\n",
      " #267 picture bad\n",
      " #268 picture bad\n",
      " #269 picture bad\n",
      " #270 picture bad\n",
      " #271 picture bad\n",
      " #272 picture bad\n",
      " #273 picture bad\n",
      " #274 picture bad\n",
      " #275 picture bad\n",
      " #276 picture bad\n",
      " #277 picture bad\n",
      " #278 picture bad\n",
      " #279 picture bad\n",
      " #280 picture bad\n",
      " #281 picture bad\n",
      " #282 picture bad\n",
      " #283 picture bad\n",
      " #284 picture bad\n",
      " #285 picture bad\n",
      " #286 picture bad\n",
      " #287 picture bad\n",
      " #288 picture bad\n",
      " #289 picture bad\n",
      " #290 picture bad\n"
     ]
    }
   ],
   "source": [
    "google_full_scrape(search='caravaggio paintings',\n",
    "                   path='images/Caravaggio', \n",
    "                   specific='caravaggio painting')"
   ]
  },
  {
   "cell_type": "code",
   "execution_count": null,
   "metadata": {},
   "outputs": [],
   "source": []
  }
 ],
 "metadata": {
  "kernelspec": {
   "display_name": "Python 3",
   "language": "python",
   "name": "python3"
  },
  "language_info": {
   "codemirror_mode": {
    "name": "ipython",
    "version": 3
   },
   "file_extension": ".py",
   "mimetype": "text/x-python",
   "name": "python",
   "nbconvert_exporter": "python",
   "pygments_lexer": "ipython3",
   "version": "3.7.7"
  }
 },
 "nbformat": 4,
 "nbformat_minor": 4
}

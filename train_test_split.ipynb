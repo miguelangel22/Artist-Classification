{
 "cells": [
  {
   "cell_type": "code",
   "execution_count": 1,
   "metadata": {},
   "outputs": [],
   "source": [
    "import splitfolders\n",
    "import os"
   ]
  },
  {
   "cell_type": "code",
   "execution_count": 2,
   "metadata": {},
   "outputs": [
    {
     "data": {
      "text/plain": [
       "'/Users/miguelangelis/Documents/00_Galvanize/capstone2'"
      ]
     },
     "execution_count": 2,
     "metadata": {},
     "output_type": "execute_result"
    }
   ],
   "source": [
    "pwd"
   ]
  },
  {
   "cell_type": "code",
   "execution_count": 13,
   "metadata": {},
   "outputs": [],
   "source": [
    "input1 = 'images/Full'"
   ]
  },
  {
   "cell_type": "code",
   "execution_count": 14,
   "metadata": {},
   "outputs": [
    {
     "data": {
      "text/plain": [
       "True"
      ]
     },
     "execution_count": 14,
     "metadata": {},
     "output_type": "execute_result"
    }
   ],
   "source": [
    "os.path.exists(input)"
   ]
  },
  {
   "cell_type": "code",
   "execution_count": 15,
   "metadata": {},
   "outputs": [
    {
     "name": "stderr",
     "output_type": "stream",
     "text": [
      "\n",
      "Copying files: 0 files [00:00, ? files/s]\u001b[A\n",
      "Copying files: 239 files [00:00, 2297.26 files/s]\u001b[A\n",
      "Copying files: 422 files [00:00, 2132.73 files/s]\u001b[A\n",
      "Copying files: 741 files [00:00, 2368.02 files/s]\u001b[A\n",
      "Copying files: 1053 files [00:00, 2534.87 files/s]\u001b[A\n",
      "Copying files: 1296 files [00:00, 2502.37 files/s]\u001b[A\n",
      "Copying files: 1515 files [00:00, 2361.55 files/s]\u001b[A\n",
      "Copying files: 1747 files [00:00, 2346.32 files/s]\u001b[A\n",
      "Copying files: 1968 files [00:00, 2297.55 files/s]\u001b[A\n",
      "Copying files: 2230 files [00:00, 2383.39 files/s]\u001b[A\n",
      "Copying files: 2463 files [00:01, 2317.26 files/s]\u001b[A\n",
      "Copying files: 2708 files [00:01, 2354.71 files/s]\u001b[A\n",
      "Copying files: 2944 files [00:01, 2354.13 files/s]\u001b[A\n",
      "Copying files: 3178 files [00:01, 2271.32 files/s]\u001b[A\n",
      "Copying files: 3470 files [00:01, 2431.64 files/s]\u001b[A\n",
      "Copying files: 3731 files [00:01, 2480.28 files/s]\u001b[A\n",
      "Copying files: 4169 files [00:01, 2386.31 files/s]\u001b[A\n"
     ]
    }
   ],
   "source": [
    "splitfolders.ratio(input=input1, output=\"images/fullsplit\", ratio=(.75, .1, .15))"
   ]
  },
  {
   "cell_type": "code",
   "execution_count": 11,
   "metadata": {},
   "outputs": [],
   "source": [
    "input2 = 'images/Periods'"
   ]
  },
  {
   "cell_type": "code",
   "execution_count": 12,
   "metadata": {},
   "outputs": [
    {
     "name": "stderr",
     "output_type": "stream",
     "text": [
      "\n",
      "Copying files: 0 files [00:00, ? files/s]\u001b[A\n",
      "Copying files: 168 files [00:00, 1674.87 files/s]\u001b[A\n",
      "Copying files: 403 files [00:00, 1832.39 files/s]\u001b[A\n",
      "Copying files: 699 files [00:00, 2067.30 files/s]\u001b[A\n",
      "Copying files: 938 files [00:00, 2153.88 files/s]\u001b[A\n",
      "Copying files: 1183 files [00:00, 2193.48 files/s]\u001b[A\n",
      "Copying files: 1425 files [00:00, 2256.23 files/s]\u001b[A\n",
      "Copying files: 1693 files [00:00, 2368.14 files/s]\u001b[A\n",
      "Copying files: 1931 files [00:00, 2369.50 files/s]\u001b[A\n",
      "Copying files: 2172 files [00:00, 2379.49 files/s]\u001b[A\n",
      "Copying files: 2418 files [00:01, 2402.13 files/s]\u001b[A\n",
      "Copying files: 2681 files [00:01, 2464.87 files/s]\u001b[A\n",
      "Copying files: 2952 files [00:01, 2533.06 files/s]\u001b[A\n",
      "Copying files: 3235 files [00:01, 2614.79 files/s]\u001b[A\n",
      "Copying files: 3542 files [00:01, 2735.88 files/s]\u001b[A\n",
      "Copying files: 3818 files [00:01, 2664.10 files/s]\u001b[A\n",
      "Copying files: 4168 files [00:01, 2537.94 files/s]\u001b[A\n"
     ]
    }
   ],
   "source": [
    "splitfolders.ratio(input=input2, output=\"images/subsplit\", ratio=(.75, .1, .15))"
   ]
  }
 ],
 "metadata": {
  "kernelspec": {
   "display_name": "Python 3",
   "language": "python",
   "name": "python3"
  },
  "language_info": {
   "codemirror_mode": {
    "name": "ipython",
    "version": 3
   },
   "file_extension": ".py",
   "mimetype": "text/x-python",
   "name": "python",
   "nbconvert_exporter": "python",
   "pygments_lexer": "ipython3",
   "version": "3.7.7"
  }
 },
 "nbformat": 4,
 "nbformat_minor": 4
}
